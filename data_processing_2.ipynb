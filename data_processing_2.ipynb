{
 "cells": [
  {
   "cell_type": "code",
   "execution_count": 1,
   "metadata": {},
   "outputs": [],
   "source": [
    "import numpy as np\n",
    "import pandas as pd\n",
    "\n",
    "from datetime import datetime\n",
    "\n",
    "import re\n",
    "\n",
    "import matplotlib.pyplot as plt\n",
    "import matplotlib.font_manager as font_manager\n",
    "\n",
    "# 设置中文字体\n",
    "plt.rcParams['font.sans-serif'] = ['SimHei']  # 使用 SimHei 字体\n",
    "plt.rcParams['axes.unicode_minus'] = False  # 解决负号显示问题"
   ]
  },
  {
   "cell_type": "code",
   "execution_count": 2,
   "metadata": {},
   "outputs": [
    {
     "name": "stdout",
     "output_type": "stream",
     "text": [
      "(300, 90)\n"
     ]
    }
   ],
   "source": [
    "# 指定文件路径\n",
    "file_path = \"data20240512.xlsx\"\n",
    "\n",
    "# 读取数据集\n",
    "data = pd.read_excel(file_path, sheet_name='Sheet1')\n",
    "\n",
    "# 重新命名列\n",
    "data.rename(columns={'疾病进展发生日期PFS（0代表统计时未进展）': 'PFS', '发生时间OS': 'OS'}, inplace=True)\n",
    "\n",
    "# 读取可匹配的行数\n",
    "data = data[:300]\n",
    "print(data.shape)"
   ]
  },
  {
   "cell_type": "code",
   "execution_count": 3,
   "metadata": {},
   "outputs": [],
   "source": [
    "formats = [\"%Y%m%d\", \"%Y/%m/%d\", \"%Y%m\", \"%Y.%m.%d\", \"%Y.%m\", \"%Y-%m-%d\", \"%Y-%m\"]\n",
    "\n",
    "def convertDate(text):\n",
    "    for f in formats:\n",
    "        try:\n",
    "            return datetime.strptime(text, f)\n",
    "        except ValueError:\n",
    "            pass\n",
    "    raise ValueError(f\"Cannot convert date: {text}\")\n",
    "\n",
    "data['PFS'].fillna(0, inplace=True)\n",
    "# 创建一个空的DataFrame，并定义列名\n",
    "PFS_time = pd.DataFrame(columns=['PFS_time'])  \n",
    "for index, row in data.iterrows():\n",
    "    line = [row['ICI starting time'].strftime('%Y-%m-%d'), str(row['PFS']).split()[0]]\n",
    "    try:\n",
    "        A = convertDate(line[0].strip())\n",
    "        B = convertDate(line[1].strip()) \n",
    "        tdays = (B-A).days\n",
    "        PFS_time = PFS_time.append({'PFS_time': tdays}, ignore_index=True)\n",
    "    except ValueError:\n",
    "        try:\n",
    "            # print(index, row['PFS'])\n",
    "            days = int(line[1].strip())\n",
    "            PFS_time = PFS_time.append({'PFS_time': days}, ignore_index=True)\n",
    "        except ValueError:\n",
    "            # print(index, row['PFS']) # 未进展、无随访（5个）\n",
    "            PFS_time = PFS_time.append({'PFS_time': 0}, ignore_index=True)\n",
    "            \n",
    "# 使用concat函数将两个DataFrame按列拼接起来\n",
    "data = pd.concat([data, PFS_time], axis=1)\n",
    " \n",
    "# Note:数据问题，出现负数，记为0\n",
    "data['PFS_time'] = data['PFS_time'].apply(lambda x: 0 if x < 0 else x)\n",
    "\n",
    "# 0记为删失\n",
    "data['PFS_time'].replace({0: np.nan, np.nan: np.nan})\n",
    "\n",
    "data['PFS_boolean'] = data['PFS_time'].apply(lambda x: 0 if x == 0 else 1)"
   ]
  },
  {
   "cell_type": "code",
   "execution_count": 4,
   "metadata": {},
   "outputs": [
    {
     "data": {
      "text/plain": [
       "0      111\n",
       "27       3\n",
       "95       3\n",
       "62       3\n",
       "46       3\n",
       "      ... \n",
       "169      1\n",
       "738      1\n",
       "231      1\n",
       "526      1\n",
       "334      1\n",
       "Name: PFS_time, Length: 159, dtype: int64"
      ]
     },
     "execution_count": 4,
     "metadata": {},
     "output_type": "execute_result"
    }
   ],
   "source": [
    "data['PFS_time'].value_counts()"
   ]
  },
  {
   "cell_type": "code",
   "execution_count": 5,
   "metadata": {},
   "outputs": [
    {
     "name": "stdout",
     "output_type": "stream",
     "text": [
      "数据的结局情况： 0    230\n",
      "1     70\n",
      "Name: OS_boolean, dtype: int64\n"
     ]
    }
   ],
   "source": [
    "# # 查看数据类型\n",
    "# for row_index in range(300):\n",
    "#     # 查看指定行的数据类型\n",
    "#     value = data.loc[row_index, 'OS']\n",
    "\n",
    "#     if isinstance(value, datetime):\n",
    "#         data_type = 'datetime'\n",
    "#     else:\n",
    "#         data_type = type(value)\n",
    "\n",
    "#     print(f\"第 {row_index} 行的数据类型为：{data_type}\")\n",
    "\n",
    "\n",
    "# 内容缺失记为：未观测到结局 0\n",
    "data['OS'].fillna(0, inplace=True)\n",
    "# 定义一个函数，用于根据数据类型进行转换\n",
    "def convert_data_type(value):\n",
    "    if value == 0 or isinstance(value, str):\n",
    "        return 0\n",
    "    elif  isinstance(value, datetime) or isinstance(value, int): #   or value.isdigit() \n",
    "        # print(value)\n",
    "        return 1\n",
    "    else:\n",
    "        return value  # 其他类型保持不变\n",
    "\n",
    "# 对列进行转换\n",
    "data['OS_boolean'] = data['OS'].apply(convert_data_type)\n",
    "print('数据的结局情况：', data['OS_boolean'].value_counts())\n"
   ]
  },
  {
   "cell_type": "code",
   "execution_count": 6,
   "metadata": {},
   "outputs": [],
   "source": [
    "# 发生OS的时间\n",
    "# 创建一个空的DataFrame，并定义列名\n",
    "OS_time = pd.DataFrame(columns=['OS_time'])  \n",
    "for index, row in data.iterrows():\n",
    "    line = [row['ICI starting time'].strftime('%Y-%m-%d'), str(row['OS']).split()[0]]\n",
    "    try:\n",
    "        A = convertDate(line[0].strip())\n",
    "        B = convertDate(line[1].strip()) \n",
    "        tdays = (B-A).days\n",
    "        OS_time = OS_time.append({'OS_time': tdays}, ignore_index=True)\n",
    "    except ValueError:\n",
    "        # print(index, row['OS'])\n",
    "        # 0和无数据均认为截止到2024年4月28日生存且没有复发\n",
    "        A = convertDate(line[0].strip())\n",
    "        cutoff_date = datetime.strptime('2024-04-28 00:00:00', '%Y-%m-%d %H:%M:%S')\n",
    "        days = (cutoff_date - A).days \n",
    "        OS_time = OS_time.append({'OS_time': days}, ignore_index=True)\n",
    "\n",
    "        # try:\n",
    "        #     days = int(line[1].strip()) # 全为0\n",
    "        #     OS_time = OS_time.append({'OS_time': days}, ignore_index=True)\n",
    "        # except ValueError: # 带中文\n",
    "        #     OS_time = OS_time.append({'OS_time': 0}, ignore_index=True)\n",
    "            \n",
    "# 使用concat函数将两个DataFrame按列拼接起来\n",
    "data = pd.concat([data, OS_time], axis=1)\n",
    "\n",
    "\n",
    "# # 如果A列和B列数据都为0，那么C列数据等于D列数据\n",
    "# data.loc[(data['PFS_boolean'] == 0) & (data['OS_boolean'] == 0), 'PFS_time'] = data['OS_time']\n",
    "\n",
    "# 如果A列数据为0，那么C列数据等于D列数据\n",
    "data.loc[data['PFS_boolean'] == 0, 'PFS_time'] = data['OS_time']"
   ]
  },
  {
   "cell_type": "code",
   "execution_count": 7,
   "metadata": {},
   "outputs": [],
   "source": [
    "# 将处理后的DataFrame保存为Excel文件\n",
    "data.to_excel('data_processed_0604.xlsx', index=False)"
   ]
  },
  {
   "cell_type": "code",
   "execution_count": 8,
   "metadata": {},
   "outputs": [
    {
     "data": {
      "text/plain": [
       "True"
      ]
     },
     "execution_count": 8,
     "metadata": {},
     "output_type": "execute_result"
    }
   ],
   "source": [
    "# 检查A列的数据是否全部大于等于B列\n",
    "result = (data['OS_time'] >= data['PFS_time']).all()\n",
    "result"
   ]
  }
 ],
 "metadata": {
  "kernelspec": {
   "display_name": "Python 3",
   "language": "python",
   "name": "python3"
  },
  "language_info": {
   "codemirror_mode": {
    "name": "ipython",
    "version": 3
   },
   "file_extension": ".py",
   "mimetype": "text/x-python",
   "name": "python",
   "nbconvert_exporter": "python",
   "pygments_lexer": "ipython3",
   "version": "3.8.10"
  }
 },
 "nbformat": 4,
 "nbformat_minor": 2
}
