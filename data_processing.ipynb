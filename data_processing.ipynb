{
 "cells": [
  {
   "cell_type": "code",
   "execution_count": 1,
   "metadata": {},
   "outputs": [],
   "source": [
    "import numpy as np\n",
    "import pandas as pd\n",
    "\n",
    "from datetime import datetime\n",
    "\n",
    "import re\n",
    "\n",
    "import matplotlib.pyplot as plt\n",
    "import matplotlib.font_manager as font_manager\n",
    "\n",
    "# 设置中文字体\n",
    "plt.rcParams['font.sans-serif'] = ['SimHei']  # 使用 SimHei 字体\n",
    "plt.rcParams['axes.unicode_minus'] = False  # 解决负号显示问题"
   ]
  },
  {
   "cell_type": "code",
   "execution_count": 2,
   "metadata": {},
   "outputs": [
    {
     "name": "stdout",
     "output_type": "stream",
     "text": [
      "(300, 90)\n"
     ]
    }
   ],
   "source": [
    "# 指定文件路径\n",
    "file_path = \"data20240512.xlsx\"\n",
    "\n",
    "# 读取数据集\n",
    "data = pd.read_excel(file_path, sheet_name='Sheet1')\n",
    "\n",
    "# 重新命名列\n",
    "data.rename(columns={'疾病进展发生日期PFS（0代表统计时未进展）': 'PFS', '发生时间OS': 'OS'}, inplace=True)\n",
    "\n",
    "# 读取可匹配的行数\n",
    "data = data[:300]\n",
    "print(data.shape)"
   ]
  },
  {
   "cell_type": "code",
   "execution_count": 3,
   "metadata": {},
   "outputs": [
    {
     "data": {
      "text/plain": [
       "0         NaN\n",
       "1       280.0\n",
       "2         NaN\n",
       "3       544.0\n",
       "4         NaN\n",
       "        ...  \n",
       "295     125.0\n",
       "296    1125.0\n",
       "297     162.0\n",
       "298     256.0\n",
       "299     334.0\n",
       "Name: PFSprocessed, Length: 300, dtype: float64"
      ]
     },
     "execution_count": 3,
     "metadata": {},
     "output_type": "execute_result"
    }
   ],
   "source": [
    "formats = [\"%Y%m%d\", \"%Y/%m/%d\", \"%Y%m\", \"%Y.%m.%d\", \"%Y.%m\", \"%Y-%m-%d\", \"%Y-%m\"]\n",
    "\n",
    "def convertDate(text):\n",
    "    for f in formats:\n",
    "        try:\n",
    "            return datetime.strptime(text, f)\n",
    "        except ValueError:\n",
    "            pass\n",
    "    raise ValueError(f\"Cannot convert date: {text}\")\n",
    "\n",
    "data['PFS'].fillna(0, inplace=True)\n",
    "# 创建一个空的DataFrame，并定义列名\n",
    "PFSprocessed = pd.DataFrame(columns=['PFSprocessed'])  \n",
    "for index, row in data.iterrows():\n",
    "    line = [row['ICI starting time'].strftime('%Y-%m-%d'), str(row['PFS']).split()[0]]\n",
    "    try:\n",
    "        A = convertDate(line[0].strip())\n",
    "        B = convertDate(line[1].strip()) \n",
    "        tdays = (B-A).days\n",
    "        PFSprocessed = PFSprocessed.append({'PFSprocessed': tdays}, ignore_index=True)\n",
    "        # print(B, A,(B-A).days)\n",
    "        # output.writerow(line[:] + [(B-A).days])\n",
    "    except ValueError:\n",
    "        try:\n",
    "            days = int(line[1].strip())\n",
    "            PFSprocessed = PFSprocessed.append({'PFSprocessed': days}, ignore_index=True)\n",
    "            # output.writerow(line[:] + [days])\n",
    "        except ValueError:\n",
    "            # print(line[0], line[1])\n",
    "            # output.writerow(line[:] + [\"pass\"])\n",
    "            PFSprocessed = PFSprocessed.append({'PFSprocessed': 0}, ignore_index=True)\n",
    "            \n",
    "# 使用concat函数将两个DataFrame按列拼接起来\n",
    "data = pd.concat([data, PFSprocessed], axis=1)\n",
    " \n",
    "# Note:数据问题，出现负数，记为0\n",
    "data['PFSprocessed'] = data['PFSprocessed'].apply(lambda x: 0 if x < 0 else x)\n",
    "# 0记为删失\n",
    "data['PFSprocessed'].replace({0: np.nan, np.nan: np.nan})"
   ]
  },
  {
   "cell_type": "code",
   "execution_count": 4,
   "metadata": {},
   "outputs": [
    {
     "name": "stdout",
     "output_type": "stream",
     "text": [
      "数据的结局情况： 0    230\n",
      "1     70\n",
      "Name: OSprocessed, dtype: int64\n"
     ]
    }
   ],
   "source": [
    "# # 查看数据类型\n",
    "# for row_index in range(300):\n",
    "#     # 查看指定行的数据类型\n",
    "#     value = data.loc[row_index, 'OS']\n",
    "\n",
    "#     if isinstance(value, datetime):\n",
    "#         data_type = 'datetime'\n",
    "#     else:\n",
    "#         data_type = type(value)\n",
    "\n",
    "#     print(f\"第 {row_index} 行的数据类型为：{data_type}\")\n",
    "    \n",
    "\n",
    "# 内容缺失记为：未观测到结局 0\n",
    "data['OS'].fillna(0, inplace=True)\n",
    "# 定义一个函数，用于根据数据类型进行转换\n",
    "def convert_data_type(value):\n",
    "    if value == 0 or isinstance(value, str):\n",
    "        return 0\n",
    "    elif  isinstance(value, datetime) or isinstance(value, int): #   or value.isdigit() \n",
    "        # print(value)\n",
    "        return 1\n",
    "    else:\n",
    "        return value  # 其他类型保持不变\n",
    "\n",
    "# 对列进行转换\n",
    "data['OSprocessed'] = data['OS'].apply(convert_data_type)\n",
    "print('数据的结局情况：', data['OSprocessed'].value_counts())"
   ]
  },
  {
   "cell_type": "code",
   "execution_count": 5,
   "metadata": {},
   "outputs": [],
   "source": [
    "# 将处理后的DataFrame保存为Excel文件\n",
    "data.to_excel('data_processed.xlsx', index=False)"
   ]
  },
  {
   "cell_type": "code",
   "execution_count": null,
   "metadata": {},
   "outputs": [],
   "source": []
  }
 ],
 "metadata": {
  "kernelspec": {
   "display_name": "Python 3",
   "language": "python",
   "name": "python3"
  },
  "language_info": {
   "codemirror_mode": {
    "name": "ipython",
    "version": 3
   },
   "file_extension": ".py",
   "mimetype": "text/x-python",
   "name": "python",
   "nbconvert_exporter": "python",
   "pygments_lexer": "ipython3",
   "version": "3.8.10"
  }
 },
 "nbformat": 4,
 "nbformat_minor": 2
}
